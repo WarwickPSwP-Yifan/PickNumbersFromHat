{
 "cells": [
  {
   "cell_type": "code",
   "execution_count": 2,
   "id": "d58595a9",
   "metadata": {},
   "outputs": [
    {
     "name": "stdout",
     "output_type": "stream",
     "text": [
      "Please input the maximum number in the hat(0)(Due to the effeciency problem, n<=8)5\n",
      "hat(0)= [1, 2, 3, 4, 5] sum(hat(0))= 15\n",
      "Counter({1: 114, 3: 58, 5: 8})\n",
      "The probability of  0 : 0\n",
      "The probability of  1 : 19/30\n",
      "The probability of  2 : 0\n",
      "The probability of  3 : 29/90\n",
      "The probability of  4 : 0\n",
      "The probability of  5 : 2/45\n",
      "The corresponding detils in statistic: Mean: 1.8222222222222222 Median 1.0 Mode ModeResult(mode=1, count=114) Var 1.3313469894475478\n"
     ]
    }
   ],
   "source": [
    "def hat_process(hat):#Thie is the program for enumerate all the conditions by realizing the process that the question defines\n",
    "    if len(hat)==1:\n",
    "        return [hat[0]]\n",
    "    last_number = [] \n",
    "    for i in range (len(hat)):\n",
    "        for j in range (i+1,len(hat)):#as I taken the first number, second number will be bigger than this in hence to traverse all possibilities\n",
    "            a=hat[i]\n",
    "            b=hat[j]\n",
    "            new_number=abs(a-b)\n",
    "            new_hat=hat[0:i]+hat[i+1:j]+hat[j+1:len(hat)]#I can form a new list here therefore convient to enumerate(use del straightly may cause error)\n",
    "            new_hat.append(new_number)\n",
    "            last_number.extend(hat_process(new_hat))\n",
    "    return last_number \n",
    "# Now I need to classification and provides the corresponding possibilities. \n",
    "from collections import Counter\n",
    "from fractions import Fraction# Since straightly division will give float, I need to induce code to make the float become fraction\n",
    "hat=[]\n",
    "u=0\n",
    "n=int(input('Please input the maximum number in the hat(0)(Due to the effeciency problem, n<=8)')) \n",
    "for i in range (1,n+1):\n",
    "    u=u+i\n",
    "    hat.append(i)\n",
    "print('hat(0)=',hat,'sum(hat(0))=',u)\n",
    "\n",
    "def total_condition(n):\n",
    "    initial=1\n",
    "    for k in range (2,n+1):\n",
    "        initial=initial*(k*(k-1)//2)\n",
    "    return initial\n",
    "\n",
    "def classfier(hat):\n",
    "    Count=Counter(hat_process(hat))\n",
    "    print(Count)\n",
    "    for r in range(n+1):\n",
    "        probability=Fraction(Count[r],total_condition(n))\n",
    "        print('The probability of ',r,':',probability)\n",
    "classfier(hat)\n",
    "\n",
    "#Then I can do some statistic about the last_number:\n",
    "\n",
    "import numpy as np\n",
    "from scipy import stats\n",
    "mean=np.mean(hat_process(hat))\n",
    "median=np.median(hat_process(hat))\n",
    "mode=stats.mode(hat_process(hat), keepdims=False)\n",
    "var=np.var(hat_process(hat), ddof =1)\n",
    "print('The corresponding detils in statistic:','Mean:',mean,'Median',median,'Mode',mode,'Var',var)"
   ]
  },
  {
   "cell_type": "code",
   "execution_count": null,
   "id": "4ce148ff",
   "metadata": {},
   "outputs": [],
   "source": []
  }
 ],
 "metadata": {
  "kernelspec": {
   "display_name": "Python 3 (ipykernel)",
   "language": "python",
   "name": "python3"
  },
  "language_info": {
   "codemirror_mode": {
    "name": "ipython",
    "version": 3
   },
   "file_extension": ".py",
   "mimetype": "text/x-python",
   "name": "python",
   "nbconvert_exporter": "python",
   "pygments_lexer": "ipython3",
   "version": "3.11.5"
  }
 },
 "nbformat": 4,
 "nbformat_minor": 5
}
